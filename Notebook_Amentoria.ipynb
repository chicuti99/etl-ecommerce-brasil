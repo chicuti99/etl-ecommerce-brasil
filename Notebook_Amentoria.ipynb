{
 "cells": [
  {
   "cell_type": "code",
   "execution_count": 1,
   "metadata": {
    "colab": {
     "base_uri": "https://localhost:8080/"
    },
    "collapsed": true,
    "executionInfo": {
     "elapsed": 20678,
     "status": "ok",
     "timestamp": 1741473300943,
     "user": {
      "displayName": "",
      "userId": ""
     },
     "user_tz": 180
    },
    "id": "DUOLvMLPvVSI",
    "outputId": "8f2266a0-b440-483f-9453-7e70159948fa"
   },
   "outputs": [],
   "source": [
    "\n",
    "import pandas as pd\n",
    "\n",
    "\n",
    "df_clientes = pd.read_csv(\"datasets/olist_customers_dataset.csv\")\n",
    "df_items = pd.read_csv(\"datasets/olist_order_items_dataset.csv\")\n",
    "df_nomes = pd.read_csv(\"datasets/product_category_name_translation.csv\")\n",
    "df_pedidos = pd.read_csv(\"datasets/olist_orders_dataset.csv\")\n",
    "df_vendedores = pd.read_csv(\"datasets/olist_sellers_dataset.csv\")\n",
    "df_pagamentos = pd.read_csv(\"datasets/olist_order_payments_dataset.csv\")\n",
    "df_produtos = pd.read_csv(\"datasets/olist_products_dataset.csv\")"
   ]
  },
  {
   "cell_type": "code",
   "execution_count": 2,
   "metadata": {
    "id": "zxNZpCq7i5qQ"
   },
   "outputs": [],
   "source": [
    "df_pedidos = df_pedidos.dropna(subset=['order_delivered_carrier_date', 'order_delivered_customer_date'])\n"
   ]
  },
  {
   "cell_type": "code",
   "execution_count": 3,
   "metadata": {
    "colab": {
     "base_uri": "https://localhost:8080/",
     "height": 206
    },
    "executionInfo": {
     "elapsed": 8,
     "status": "ok",
     "timestamp": 1741475733694,
     "user": {
      "displayName": "",
      "userId": ""
     },
     "user_tz": 180
    },
    "id": "CXoBgdWCCDp1",
    "outputId": "07399ed4-d716-44b6-a580-b5ca62bd58ab"
   },
   "outputs": [
    {
     "data": {
      "text/html": [
       "<div>\n",
       "<style scoped>\n",
       "    .dataframe tbody tr th:only-of-type {\n",
       "        vertical-align: middle;\n",
       "    }\n",
       "\n",
       "    .dataframe tbody tr th {\n",
       "        vertical-align: top;\n",
       "    }\n",
       "\n",
       "    .dataframe thead th {\n",
       "        text-align: right;\n",
       "    }\n",
       "</style>\n",
       "<table border=\"1\" class=\"dataframe\">\n",
       "  <thead>\n",
       "    <tr style=\"text-align: right;\">\n",
       "      <th></th>\n",
       "      <th>order_id</th>\n",
       "      <th>order_item_id</th>\n",
       "      <th>product_id</th>\n",
       "      <th>seller_id</th>\n",
       "      <th>shipping_limit_date</th>\n",
       "      <th>price</th>\n",
       "      <th>freight_value</th>\n",
       "    </tr>\n",
       "  </thead>\n",
       "  <tbody>\n",
       "    <tr>\n",
       "      <th>0</th>\n",
       "      <td>00010242fe8c5a6d1ba2dd792cb16214</td>\n",
       "      <td>1</td>\n",
       "      <td>4244733e06e7ecb4970a6e2683c13e61</td>\n",
       "      <td>48436dade18ac8b2bce089ec2a041202</td>\n",
       "      <td>2017-09-19 09:45:35</td>\n",
       "      <td>58.90</td>\n",
       "      <td>13.29</td>\n",
       "    </tr>\n",
       "    <tr>\n",
       "      <th>1</th>\n",
       "      <td>00018f77f2f0320c557190d7a144bdd3</td>\n",
       "      <td>1</td>\n",
       "      <td>e5f2d52b802189ee658865ca93d83a8f</td>\n",
       "      <td>dd7ddc04e1b6c2c614352b383efe2d36</td>\n",
       "      <td>2017-05-03 11:05:13</td>\n",
       "      <td>239.90</td>\n",
       "      <td>19.93</td>\n",
       "    </tr>\n",
       "    <tr>\n",
       "      <th>2</th>\n",
       "      <td>000229ec398224ef6ca0657da4fc703e</td>\n",
       "      <td>1</td>\n",
       "      <td>c777355d18b72b67abbeef9df44fd0fd</td>\n",
       "      <td>5b51032eddd242adc84c38acab88f23d</td>\n",
       "      <td>2018-01-18 14:48:30</td>\n",
       "      <td>199.00</td>\n",
       "      <td>17.87</td>\n",
       "    </tr>\n",
       "    <tr>\n",
       "      <th>3</th>\n",
       "      <td>00024acbcdf0a6daa1e931b038114c75</td>\n",
       "      <td>1</td>\n",
       "      <td>7634da152a4610f1595efa32f14722fc</td>\n",
       "      <td>9d7a1d34a5052409006425275ba1c2b4</td>\n",
       "      <td>2018-08-15 10:10:18</td>\n",
       "      <td>12.99</td>\n",
       "      <td>12.79</td>\n",
       "    </tr>\n",
       "    <tr>\n",
       "      <th>4</th>\n",
       "      <td>00042b26cf59d7ce69dfabb4e55b4fd9</td>\n",
       "      <td>1</td>\n",
       "      <td>ac6c3623068f30de03045865e4e10089</td>\n",
       "      <td>df560393f3a51e74553ab94004ba5c87</td>\n",
       "      <td>2017-02-13 13:57:51</td>\n",
       "      <td>199.90</td>\n",
       "      <td>18.14</td>\n",
       "    </tr>\n",
       "  </tbody>\n",
       "</table>\n",
       "</div>"
      ],
      "text/plain": [
       "                           order_id  order_item_id  \\\n",
       "0  00010242fe8c5a6d1ba2dd792cb16214              1   \n",
       "1  00018f77f2f0320c557190d7a144bdd3              1   \n",
       "2  000229ec398224ef6ca0657da4fc703e              1   \n",
       "3  00024acbcdf0a6daa1e931b038114c75              1   \n",
       "4  00042b26cf59d7ce69dfabb4e55b4fd9              1   \n",
       "\n",
       "                         product_id                         seller_id  \\\n",
       "0  4244733e06e7ecb4970a6e2683c13e61  48436dade18ac8b2bce089ec2a041202   \n",
       "1  e5f2d52b802189ee658865ca93d83a8f  dd7ddc04e1b6c2c614352b383efe2d36   \n",
       "2  c777355d18b72b67abbeef9df44fd0fd  5b51032eddd242adc84c38acab88f23d   \n",
       "3  7634da152a4610f1595efa32f14722fc  9d7a1d34a5052409006425275ba1c2b4   \n",
       "4  ac6c3623068f30de03045865e4e10089  df560393f3a51e74553ab94004ba5c87   \n",
       "\n",
       "  shipping_limit_date   price  freight_value  \n",
       "0 2017-09-19 09:45:35   58.90          13.29  \n",
       "1 2017-05-03 11:05:13  239.90          19.93  \n",
       "2 2018-01-18 14:48:30  199.00          17.87  \n",
       "3 2018-08-15 10:10:18   12.99          12.79  \n",
       "4 2017-02-13 13:57:51  199.90          18.14  "
      ]
     },
     "execution_count": 3,
     "metadata": {},
     "output_type": "execute_result"
    }
   ],
   "source": [
    "df_items['shipping_limit_date'] = pd.to_datetime(df_items['shipping_limit_date'])\n",
    "df_items.head()"
   ]
  },
  {
   "cell_type": "code",
   "execution_count": 4,
   "metadata": {
    "id": "J4v3x2yyEvv5"
   },
   "outputs": [],
   "source": [
    "df_pedidos['order_purchase_timestamp'] = pd.to_datetime(df_pedidos['order_purchase_timestamp'])\n",
    "df_pedidos['order_approved_at'] = pd.to_datetime(df_pedidos['order_approved_at'])\n",
    "df_pedidos['order_delivered_carrier_date'] = pd.to_datetime(df_pedidos['order_delivered_carrier_date'])\n",
    "df_pedidos['order_delivered_customer_date'] = pd.to_datetime(df_pedidos['order_delivered_customer_date'])\n",
    "df_pedidos['order_estimated_delivery_date'] = pd.to_datetime(df_pedidos['order_estimated_delivery_date'])\n"
   ]
  },
  {
   "cell_type": "code",
   "execution_count": 5,
   "metadata": {
    "colab": {
     "base_uri": "https://localhost:8080/"
    },
    "executionInfo": {
     "elapsed": 214,
     "status": "ok",
     "timestamp": 1741476600177,
     "user": {
      "displayName": "",
      "userId": ""
     },
     "user_tz": 180
    },
    "id": "IbxTCY6QFLGq",
    "outputId": "45968a07-42d6-413a-d26a-6cd4e0fc12b7"
   },
   "outputs": [],
   "source": [
    "df_pedidos['is_delivered_late'] = df_pedidos['order_delivered_customer_date'] > df_pedidos['order_estimated_delivery_date']"
   ]
  },
  {
   "cell_type": "code",
   "execution_count": 6,
   "metadata": {
    "id": "-FZE8dZXOmMl"
   },
   "outputs": [
    {
     "name": "stdout",
     "output_type": "stream",
     "text": [
      "                          seller_id  seller_zip_code_prefix  \\\n",
      "0  3442f8959a84dea7ee197c632cb2df15                   13023   \n",
      "1  d1b65fc7debc3361ea86b5f14c68d2e2                   13844   \n",
      "2  ce3ad9de960102d0677a81f5d0bb7b2d                   20031   \n",
      "3  c0f3eea2e14555b6faeea3dd58c1b1c3                    4195   \n",
      "4  51a04a8a6bdcb23deccc82b0b80742cf                   12914   \n",
      "\n",
      "         seller_city seller_state  sales  total_sold  medium_ticket  \n",
      "0           campinas           SP      3      218.70      72.900000  \n",
      "1         mogi guacu           SP     41    11703.07     285.440732  \n",
      "2     rio de janeiro           RJ      1      158.00     158.000000  \n",
      "3          sao paulo           SP      1       79.99      79.990000  \n",
      "4  braganca paulista           SP      1      167.99     167.990000  \n"
     ]
    }
   ],
   "source": [
    "df_vendas = df_items.groupby(\"seller_id\").agg(\n",
    "    sales=(\"order_id\", \"count\"),\n",
    "    total_sold=(\"price\", \"sum\"),\n",
    ")\n",
    "\n",
    "\n",
    "df_vendas[\"medium_ticket\"] = df_vendas[\"total_sold\"] / df_vendas[\"sales\"]\n",
    "\n",
    "df_vendas.reset_index(inplace=True)\n",
    "\n",
    "df_vendedores = df_vendedores.merge(df_vendas, on=\"seller_id\", how=\"left\")\n",
    "\n",
    "df_vendedores.fillna({\"sales\": 0, \"total_sold\": 0, \"medium_ticket\": 0}, inplace=True)\n",
    "\n",
    "print(df_vendedores.head())\n"
   ]
  },
  {
   "cell_type": "code",
   "execution_count": 7,
   "metadata": {
    "collapsed": true,
    "id": "4cyT1In5aK7l"
   },
   "outputs": [
    {
     "name": "stdout",
     "output_type": "stream",
     "text": [
      "                         product_id  product_category_name  \\\n",
      "0  1e9e8ef04dbcff4541ed26657ea517e5             perfumaria   \n",
      "1  3aa071139cb16b67ca9e5dea641aaa2f                  artes   \n",
      "2  96bd76ec8810374ed1b65e291975717f          esporte_lazer   \n",
      "3  cef67bcfe19066a932b7673e239eb23d                  bebes   \n",
      "4  9dc1a7de274444849c219cff195d0b71  utilidades_domesticas   \n",
      "\n",
      "   product_name_lenght  product_description_lenght  product_photos_qty  \\\n",
      "0                 40.0                       287.0                 1.0   \n",
      "1                 44.0                       276.0                 1.0   \n",
      "2                 46.0                       250.0                 1.0   \n",
      "3                 27.0                       261.0                 1.0   \n",
      "4                 37.0                       402.0                 4.0   \n",
      "\n",
      "   product_weight_g  product_length_cm  product_height_cm  product_width_cm  \\\n",
      "0             225.0               16.0               10.0              14.0   \n",
      "1            1000.0               30.0               18.0              20.0   \n",
      "2             154.0               18.0                9.0              15.0   \n",
      "3             371.0               26.0                4.0              26.0   \n",
      "4             625.0               20.0               17.0              13.0   \n",
      "\n",
      "   total_sales  total_revenue  \n",
      "0            1          10.91  \n",
      "1            1         248.00  \n",
      "2            1          79.80  \n",
      "3            1         112.30  \n",
      "4            1          37.90  \n"
     ]
    }
   ],
   "source": [
    "df_produto_vendas = df_items.groupby(\"product_id\").agg(\n",
    "    total_sales=(\"order_id\", \"count\"),\n",
    "    total_revenue=(\"price\", \"sum\")\n",
    ")\n",
    "\n",
    "df_produto_vendas.reset_index(inplace=True)\n",
    "\n",
    "\n",
    "df_produtos = df_produtos.merge(df_produto_vendas, on=\"product_id\", how=\"left\")\n",
    "\n",
    "df_produtos.fillna({\"total_sales\": 0, \"total_revenue\": 0}, inplace=True)\n",
    "\n",
    "print(df_produtos.head())"
   ]
  },
  {
   "cell_type": "code",
   "execution_count": 11,
   "metadata": {
    "id": "ABigccRjhczl"
   },
   "outputs": [],
   "source": [
    "df_order_totals = df_items.groupby('order_id')['price'].sum().reset_index()\n",
    "df_order_totals.rename(columns={'price': 'total_order_value'}, inplace=True)\n",
    "\n",
    "df_pedidos = df_pedidos.merge(df_order_totals, on='order_id', how='left')\n",
    "\n",
    "\n",
    "df_customer_stats = df_pedidos.groupby('customer_id').agg(\n",
    "    total_spent=('total_order_value', 'sum'),\n",
    "    average_order_value=('total_order_value', 'mean'),\n",
    "    total_orders=('order_id', 'count')\n",
    ").reset_index()\n",
    "\n",
    "df_clientes = df_clientes.merge(df_customer_stats, on='customer_id', how='left')\n",
    "\n",
    "df_clientes.fillna({'total_spent': 0, 'average_order_value': 0, 'total_orders': 0}, inplace=True)\n"
   ]
  },
  {
   "cell_type": "code",
   "execution_count": null,
   "metadata": {
    "colab": {
     "base_uri": "https://localhost:8080/"
    },
    "executionInfo": {
     "elapsed": 208,
     "status": "ok",
     "timestamp": 1741484354922,
     "user": {
      "displayName": "",
      "userId": ""
     },
     "user_tz": 180
    },
    "id": "M6w5YRMjjmVs",
    "outputId": "cdfa7818-f532-41d5-ed2e-6aebc4a66933"
   },
   "outputs": [
    {
     "name": "stdout",
     "output_type": "stream",
     "text": [
      "   Receita Total                                  Vendas por Estado  \\\n",
      "0     13591643.7  {'AC': 80, 'AL': 397, 'AM': 145, 'AP': 67, 'BA...   \n",
      "\n",
      "                                Vendas por Categoria  \n",
      "0  {'agro_industria_e_comercio': 212, 'alimentos'...  \n"
     ]
    }
   ],
   "source": [
    "receita_total = df_items['price'].sum()\n",
    "\n",
    "vendas_por_estado = df_pedidos.merge(df_clientes, on='customer_id').groupby('customer_state')['order_id'].count()\n",
    "\n",
    "vendas_por_categoria = df_items.merge(df_produtos, on='product_id').groupby('product_category_name')['order_id'].count()\n",
    "\n",
    "df_resumo = pd.DataFrame({\n",
    "    'Receita Total': [receita_total],\n",
    "    'Vendas por Estado': [vendas_por_estado.to_dict()],\n",
    "    'Vendas por Categoria': [vendas_por_categoria.to_dict()]\n",
    "})\n",
    "\n",
    "print(df_resumo)\n"
   ]
  },
  {
   "cell_type": "code",
   "execution_count": null,
   "metadata": {
    "colab": {
     "base_uri": "https://localhost:8080/"
    },
    "executionInfo": {
     "elapsed": 1397,
     "status": "ok",
     "timestamp": 1741484487541,
     "user": {
      "displayName": "",
      "userId": ""
     },
     "user_tz": 180
    },
    "id": "3lJQzRBRkFBl",
    "outputId": "b57d8243-d9f2-490d-9070-1ed8d943e604"
   },
   "outputs": [
    {
     "name": "stdout",
     "output_type": "stream",
     "text": [
      "Dataset corded-shadow-453116-f7.ecommerce_analise criado com sucesso.\n"
     ]
    }
   ],
   "source": [
    "dataset_ref = client.dataset(\"ecommerce_analise\")  # Nome do novo dataset\n",
    "try:\n",
    "    client.get_dataset(dataset_ref)  # Verifica se já existe\n",
    "    print(\"Dataset já existe.\")\n",
    "except Exception:\n",
    "    dataset = bigquery.Dataset(dataset_ref)\n",
    "    dataset.location = \"US\"  # Escolha a região desejada\n",
    "    client.create_dataset(dataset, exists_ok=True)\n",
    "    print(f\"Dataset {dataset_ref} criado com sucesso.\")\n"
   ]
  },
  {
   "cell_type": "code",
   "execution_count": null,
   "metadata": {
    "colab": {
     "base_uri": "https://localhost:8080/"
    },
    "executionInfo": {
     "elapsed": 5174,
     "status": "ok",
     "timestamp": 1741484602507,
     "user": {
      "displayName": "",
      "userId": ""
     },
     "user_tz": 180
    },
    "id": "_UthG4IAkaPf",
    "outputId": "5a3d10e2-6644-4ef2-87b6-9ca4c44d99be"
   },
   "outputs": [
    {
     "name": "stderr",
     "output_type": "stream",
     "text": [
      "/usr/local/lib/python3.10/dist-packages/google/cloud/bigquery/_pandas_helpers.py:570: UserWarning: Pyarrow could not determine the type of columns: Vendas por Estado, Vendas por Categoria.\n",
      "  warnings.warn(\n"
     ]
    },
    {
     "name": "stdout",
     "output_type": "stream",
     "text": [
      "Tabela resumo_vendas carregada com sucesso!\n"
     ]
    }
   ],
   "source": [
    "\n",
    "tabela_resumo_ref = client.dataset(\"ecommerce_analise\").table(\"resumo_vendas\")\n",
    "\n",
    "job = client.load_table_from_dataframe(df_resumo, tabela_resumo_ref, job_config=bigquery.LoadJobConfig(write_disposition=\"WRITE_TRUNCATE\"))\n",
    "\n",
    "job.result()\n",
    "print(\"Tabela resumo_vendas carregada com sucesso!\")\n"
   ]
  },
  {
   "cell_type": "code",
   "execution_count": null,
   "metadata": {
    "colab": {
     "base_uri": "https://localhost:8080/"
    },
    "executionInfo": {
     "elapsed": 12385,
     "status": "ok",
     "timestamp": 1741484775818,
     "user": {
      "displayName": "",
      "userId": ""
     },
     "user_tz": 180
    },
    "id": "hWIRip-3khO5",
    "outputId": "0337387c-a951-40e2-df32-9e6c553ad45e"
   },
   "outputs": [
    {
     "name": "stdout",
     "output_type": "stream",
     "text": [
      "Todas as tabelas transformadas foram carregadas no BigQuery com sucesso!\n"
     ]
    }
   ],
   "source": [
    "# Carregar vendedores transformados\n",
    "tabela_vendedores_ref = client.dataset(\"ecommerce_analise\").table(\"vendedores\")\n",
    "job_vendedores = client.load_table_from_dataframe(df_vendedores, tabela_vendedores_ref, job_config=bigquery.LoadJobConfig(write_disposition=\"WRITE_TRUNCATE\"))\n",
    "job_vendedores.result()\n",
    "\n",
    "# Carregar clientes transformados\n",
    "tabela_clientes_ref = client.dataset(\"ecommerce_analise\").table(\"clientes\")\n",
    "job_clientes = client.load_table_from_dataframe(df_clientes, tabela_clientes_ref, job_config=bigquery.LoadJobConfig(write_disposition=\"WRITE_TRUNCATE\"))\n",
    "job_clientes.result()\n",
    "\n",
    "print(\"Todas as tabelas transformadas foram carregadas no BigQuery com sucesso!\")\n"
   ]
  },
  {
   "cell_type": "code",
   "execution_count": 13,
   "metadata": {},
   "outputs": [
    {
     "data": {
      "text/html": [
       "<div>\n",
       "<style scoped>\n",
       "    .dataframe tbody tr th:only-of-type {\n",
       "        vertical-align: middle;\n",
       "    }\n",
       "\n",
       "    .dataframe tbody tr th {\n",
       "        vertical-align: top;\n",
       "    }\n",
       "\n",
       "    .dataframe thead th {\n",
       "        text-align: right;\n",
       "    }\n",
       "</style>\n",
       "<table border=\"1\" class=\"dataframe\">\n",
       "  <thead>\n",
       "    <tr style=\"text-align: right;\">\n",
       "      <th></th>\n",
       "      <th>Receita Total</th>\n",
       "      <th>Vendas por Estado</th>\n",
       "      <th>Vendas por Categoria</th>\n",
       "    </tr>\n",
       "  </thead>\n",
       "  <tbody>\n",
       "    <tr>\n",
       "      <th>0</th>\n",
       "      <td>13591643.7</td>\n",
       "      <td>{'AC': 80, 'AL': 397, 'AM': 145, 'AP': 67, 'BA...</td>\n",
       "      <td>{'agro_industria_e_comercio': 212, 'alimentos'...</td>\n",
       "    </tr>\n",
       "  </tbody>\n",
       "</table>\n",
       "</div>"
      ],
      "text/plain": [
       "   Receita Total                                  Vendas por Estado  \\\n",
       "0     13591643.7  {'AC': 80, 'AL': 397, 'AM': 145, 'AP': 67, 'BA...   \n",
       "\n",
       "                                Vendas por Categoria  \n",
       "0  {'agro_industria_e_comercio': 212, 'alimentos'...  "
      ]
     },
     "execution_count": 13,
     "metadata": {},
     "output_type": "execute_result"
    }
   ],
   "source": [
    "df_resumo"
   ]
  },
  {
   "cell_type": "code",
   "execution_count": 16,
   "metadata": {
    "colab": {
     "base_uri": "https://localhost:8080/",
     "height": 383
    },
    "executionInfo": {
     "elapsed": 8,
     "status": "error",
     "timestamp": 1741485593768,
     "user": {
      "displayName": "",
      "userId": ""
     },
     "user_tz": 180
    },
    "id": "gjDDZdJnoTTG",
    "outputId": "627ea9ad-8a32-4847-a6a7-2f9401831520"
   },
   "outputs": [
    {
     "name": "stderr",
     "output_type": "stream",
     "text": [
      "2025-03-09 00:58:05.649 Thread 'MainThread': missing ScriptRunContext! This warning can be ignored when running in bare mode.\n",
      "2025-03-09 00:58:05.650 Thread 'MainThread': missing ScriptRunContext! This warning can be ignored when running in bare mode.\n",
      "2025-03-09 00:58:05.650 Thread 'MainThread': missing ScriptRunContext! This warning can be ignored when running in bare mode.\n",
      "2025-03-09 00:58:05.651 Thread 'MainThread': missing ScriptRunContext! This warning can be ignored when running in bare mode.\n",
      "2025-03-09 00:58:05.674 Thread 'MainThread': missing ScriptRunContext! This warning can be ignored when running in bare mode.\n",
      "2025-03-09 00:58:05.674 Thread 'MainThread': missing ScriptRunContext! This warning can be ignored when running in bare mode.\n",
      "2025-03-09 00:58:05.676 Thread 'MainThread': missing ScriptRunContext! This warning can be ignored when running in bare mode.\n",
      "2025-03-09 00:58:05.676 Thread 'MainThread': missing ScriptRunContext! This warning can be ignored when running in bare mode.\n",
      "2025-03-09 00:58:05.716 Thread 'MainThread': missing ScriptRunContext! This warning can be ignored when running in bare mode.\n",
      "2025-03-09 00:58:05.718 Thread 'MainThread': missing ScriptRunContext! This warning can be ignored when running in bare mode.\n",
      "2025-03-09 00:58:05.720 Thread 'MainThread': missing ScriptRunContext! This warning can be ignored when running in bare mode.\n",
      "2025-03-09 00:58:05.725 Thread 'MainThread': missing ScriptRunContext! This warning can be ignored when running in bare mode.\n"
     ]
    },
    {
     "data": {
      "text/plain": [
       "DeltaGenerator()"
      ]
     },
     "execution_count": 16,
     "metadata": {},
     "output_type": "execute_result"
    }
   ],
   "source": [
    "import pandas as pd\n",
    "import streamlit as st\n",
    "import plotly.express as px\n",
    "\n",
    "# Calcular Receita Total\n",
    "receita_total = df_items[\"price\"].sum()\n",
    "\n",
    "# Número de Vendas por Estado\n",
    "df_vendas_estado = df_pedidos.merge(df_clientes, on=\"customer_id\").groupby(\"customer_state\")[\"order_id\"].count().reset_index()\n",
    "df_vendas_estado.columns = [\"estado\", \"num_vendas\"]\n",
    "\n",
    "# Número de Vendas por Categoria de Produto\n",
    "df_vendas_categoria = df_items.merge(df_produtos, on=\"product_id\").groupby(\"product_category_name\")[\"order_id\"].count().reset_index()\n",
    "df_vendas_categoria.columns = [\"categoria_produto\", \"total_vendas\"]\n",
    "\n",
    "# Criar DataFrame Resumo\n",
    "df_resumo = pd.DataFrame({\"Receita Total\": [receita_total]})\n",
    "\n",
    "# Criar o dashboard\n",
    "st.title(\"Dashboard de Vendas - E-commerce\")\n",
    "\n",
    "# Receita Total\n",
    "st.metric(label=\"Receita Total\", value=f\"R$ {receita_total:,.2f}\")\n",
    "\n",
    "# Gráfico de Número de Vendas por Estado\n",
    "fig_estado = px.bar(df_vendas_estado, x=\"estado\", y=\"num_vendas\", title=\"Vendas por Estado\")\n",
    "st.plotly_chart(fig_estado)\n",
    "\n",
    "# Gráfico de Vendas por Categoria de Produto\n",
    "fig_categoria = px.pie(df_vendas_categoria, names=\"categoria_produto\", values=\"total_vendas\", title=\"Vendas por Categoria\")\n",
    "st.plotly_chart(fig_categoria)\n",
    "\n"
   ]
  },
  {
   "cell_type": "code",
   "execution_count": null,
   "metadata": {
    "id": "8-wKrTGPoUjS"
   },
   "outputs": [],
   "source": []
  }
 ],
 "metadata": {
  "colab": {
   "name": "Notebook de demonstração",
   "provenance": []
  },
  "kernelspec": {
   "display_name": "ETL_e-commerce_Brasil-a76QE_nw",
   "language": "python",
   "name": "python3"
  },
  "language_info": {
   "codemirror_mode": {
    "name": "ipython",
    "version": 3
   },
   "file_extension": ".py",
   "mimetype": "text/x-python",
   "name": "python",
   "nbconvert_exporter": "python",
   "pygments_lexer": "ipython3",
   "version": "3.9.15"
  }
 },
 "nbformat": 4,
 "nbformat_minor": 0
}
